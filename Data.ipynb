{
 "cells": [
  {
   "cell_type": "code",
   "execution_count": 2,
   "id": "e15a8c2d-f1fd-4d29-a142-a1feea23c4fb",
   "metadata": {},
   "outputs": [
    {
     "name": "stdout",
     "output_type": "stream",
     "text": [
      "Found 29 images belonging to 2 classes.\n"
     ]
    },
    {
     "name": "stdout",
     "output_type": "stream",
     "text": [
      "Found 6 images belonging to 2 classes.\n"
     ]
    }
   ],
   "source": [
    "import os\n",
    "from tensorflow.keras.preprocessing.image import ImageDataGenerator\n",
    "\n",
    "train_dir = 'E:/OK_&_Nok_images'\n",
    "\n",
    "img_size = (400,400)  #as all are of average 400X400 jpg\n",
    "batch_size = 35\n",
    "\n",
    "#done the data augmentation here you can see\n",
    "train_datagen = ImageDataGenerator(\n",
    "    rescale=1./255,\n",
    "    rotation_range=20,\n",
    "    width_shift_range=0.2,\n",
    "    height_shift_range=0.2,\n",
    "    shear_range=0.2,\n",
    "    zoom_range=0.2,\n",
    "    horizontal_flip=True,\n",
    "    validation_split=0.2\n",
    ")\n",
    "\n",
    "# batches of augmented data\n",
    "train_generator = train_datagen.flow_from_directory(\n",
    "    train_dir,\n",
    "    target_size=img_size,\n",
    "    batch_size=batch_size,\n",
    "    class_mode='binary',\n",
    "    subset='training'\n",
    ")\n",
    "\n",
    "validation_generator = train_datagen.flow_from_directory(\n",
    "    train_dir,\n",
    "    target_size=img_size,\n",
    "    batch_size=batch_size,\n",
    "    class_mode='binary',\n",
    "    subset='validation'\n",
    ")"
   ]
  },
  {
   "cell_type": "code",
   "execution_count": 3,
   "id": "847ab545-7c99-4136-8796-e34345fe7df0",
   "metadata": {},
   "outputs": [
    {
     "name": "stdout",
     "output_type": "stream",
     "text": [
      "Model: \"sequential\"\n",
      "_________________________________________________________________\n",
      " Layer (type)                Output Shape              Param #   \n",
      "=================================================================\n",
      " conv2d (Conv2D)             (None, 398, 398, 32)      896       \n",
      "                                                                 \n",
      " max_pooling2d (MaxPooling2  (None, 199, 199, 32)      0         \n",
      " D)                                                              \n",
      "                                                                 \n",
      " conv2d_1 (Conv2D)           (None, 197, 197, 64)      18496     \n",
      "                                                                 \n",
      " max_pooling2d_1 (MaxPoolin  (None, 98, 98, 64)        0         \n",
      " g2D)                                                            \n",
      "                                                                 \n",
      " conv2d_2 (Conv2D)           (None, 96, 96, 128)       73856     \n",
      "                                                                 \n",
      " max_pooling2d_2 (MaxPoolin  (None, 48, 48, 128)       0         \n",
      " g2D)                                                            \n",
      "                                                                 \n",
      " flatten (Flatten)           (None, 294912)            0         \n",
      "                                                                 \n",
      " dense (Dense)               (None, 128)               37748864  \n",
      "                                                                 \n",
      " dense_1 (Dense)             (None, 1)                 129       \n",
      "                                                                 \n",
      "=================================================================\n",
      "Total params: 37842241 (144.36 MB)\n",
      "Trainable params: 37842241 (144.36 MB)\n",
      "Non-trainable params: 0 (0.00 Byte)\n",
      "_________________________________________________________________\n"
     ]
    }
   ],
   "source": [
    "from tensorflow.keras.models import Sequential\n",
    "from tensorflow.keras.layers import Conv2D, MaxPooling2D, Flatten, Dense\n",
    "\n",
    "model = Sequential([\n",
    "    Conv2D(32, (3,3), activation='relu', input_shape=(img_size[0], img_size[1], 3)),\n",
    "    MaxPooling2D(pool_size=(2,2)),\n",
    "    Conv2D(64, (3,3), activation='relu'),\n",
    "    MaxPooling2D(pool_size=(2,2)),\n",
    "    Conv2D(128, (3,3), activation='relu'),\n",
    "    MaxPooling2D(pool_size=(2,2)),\n",
    "    Flatten(),\n",
    "    Dense(128, activation='relu'),\n",
    "    Dense(1, activation='sigmoid')\n",
    "])\n",
    "\n",
    "model.compile(optimizer='adam', loss='binary_crossentropy', metrics=['accuracy'])\n",
    "\n",
    "model.summary()\n"
   ]
  },
  {
   "cell_type": "code",
   "execution_count": 4,
   "id": "5ebdebce-e3c7-49a2-bc44-b1ebbac8a7d8",
   "metadata": {},
   "outputs": [
    {
     "name": "stdout",
     "output_type": "stream",
     "text": [
      "Epoch 1/30\n",
      "1/1 [==============================] - 10s 10s/step - loss: 0.7184 - accuracy: 0.3448 - val_loss: 8.1572 - val_accuracy: 0.6667\n",
      "Epoch 2/30\n",
      "1/1 [==============================] - 8s 8s/step - loss: 7.0130 - accuracy: 0.6552 - val_loss: 0.8238 - val_accuracy: 0.6667\n",
      "Epoch 3/30\n",
      "1/1 [==============================] - 8s 8s/step - loss: 0.7713 - accuracy: 0.6552 - val_loss: 1.8478 - val_accuracy: 0.3333\n",
      "Epoch 4/30\n",
      "1/1 [==============================] - 7s 7s/step - loss: 1.4080 - accuracy: 0.3448 - val_loss: 1.0845 - val_accuracy: 0.3333\n",
      "Epoch 5/30\n",
      "1/1 [==============================] - 7s 7s/step - loss: 0.8739 - accuracy: 0.3448 - val_loss: 0.7490 - val_accuracy: 0.3333\n",
      "Epoch 6/30\n",
      "1/1 [==============================] - 7s 7s/step - loss: 0.7044 - accuracy: 0.2759 - val_loss: 0.6624 - val_accuracy: 0.6667\n",
      "Epoch 7/30\n",
      "1/1 [==============================] - 7s 7s/step - loss: 0.6718 - accuracy: 0.6552 - val_loss: 0.6489 - val_accuracy: 0.6667\n",
      "Epoch 8/30\n",
      "1/1 [==============================] - 8s 8s/step - loss: 0.6614 - accuracy: 0.6552 - val_loss: 0.6304 - val_accuracy: 0.6667\n",
      "Epoch 9/30\n",
      "1/1 [==============================] - 9s 9s/step - loss: 0.6583 - accuracy: 0.6552 - val_loss: 0.6331 - val_accuracy: 0.6667\n",
      "Epoch 10/30\n",
      "1/1 [==============================] - 8s 8s/step - loss: 0.6531 - accuracy: 0.6552 - val_loss: 0.6193 - val_accuracy: 0.6667\n",
      "Epoch 11/30\n",
      "1/1 [==============================] - 7s 7s/step - loss: 0.6362 - accuracy: 0.6552 - val_loss: 0.6015 - val_accuracy: 0.6667\n",
      "Epoch 12/30\n",
      "1/1 [==============================] - 7s 7s/step - loss: 0.6227 - accuracy: 0.6552 - val_loss: 0.5772 - val_accuracy: 0.6667\n",
      "Epoch 13/30\n",
      "1/1 [==============================] - 7s 7s/step - loss: 0.6014 - accuracy: 0.6552 - val_loss: 0.5691 - val_accuracy: 0.6667\n",
      "Epoch 14/30\n",
      "1/1 [==============================] - 9s 9s/step - loss: 0.5651 - accuracy: 0.6552 - val_loss: 0.4731 - val_accuracy: 0.6667\n",
      "Epoch 15/30\n",
      "1/1 [==============================] - 8s 8s/step - loss: 0.5182 - accuracy: 0.6897 - val_loss: 0.4706 - val_accuracy: 1.0000\n",
      "Epoch 16/30\n",
      "1/1 [==============================] - 7s 7s/step - loss: 0.4337 - accuracy: 0.9310 - val_loss: 0.4284 - val_accuracy: 0.8333\n",
      "Epoch 17/30\n",
      "1/1 [==============================] - 7s 7s/step - loss: 0.4071 - accuracy: 0.7931 - val_loss: 0.3532 - val_accuracy: 1.0000\n",
      "Epoch 18/30\n",
      "1/1 [==============================] - 8s 8s/step - loss: 0.3547 - accuracy: 0.8621 - val_loss: 0.2306 - val_accuracy: 1.0000\n",
      "Epoch 19/30\n",
      "1/1 [==============================] - 8s 8s/step - loss: 0.3239 - accuracy: 0.8966 - val_loss: 0.2213 - val_accuracy: 1.0000\n",
      "Epoch 20/30\n",
      "1/1 [==============================] - 7s 7s/step - loss: 0.2450 - accuracy: 0.9310 - val_loss: 0.1115 - val_accuracy: 1.0000\n",
      "Epoch 21/30\n",
      "1/1 [==============================] - 8s 8s/step - loss: 0.2137 - accuracy: 0.8276 - val_loss: 0.1775 - val_accuracy: 1.0000\n",
      "Epoch 22/30\n",
      "1/1 [==============================] - 7s 7s/step - loss: 0.2136 - accuracy: 0.8621 - val_loss: 0.0607 - val_accuracy: 1.0000\n",
      "Epoch 23/30\n",
      "1/1 [==============================] - 8s 8s/step - loss: 0.2555 - accuracy: 0.8966 - val_loss: 0.3463 - val_accuracy: 0.8333\n",
      "Epoch 24/30\n",
      "1/1 [==============================] - 7s 7s/step - loss: 0.4197 - accuracy: 0.7931 - val_loss: 0.0429 - val_accuracy: 1.0000\n",
      "Epoch 25/30\n",
      "1/1 [==============================] - 7s 7s/step - loss: 0.1899 - accuracy: 0.8966 - val_loss: 0.1913 - val_accuracy: 0.8333\n",
      "Epoch 26/30\n",
      "1/1 [==============================] - 8s 8s/step - loss: 0.5651 - accuracy: 0.7931 - val_loss: 0.0391 - val_accuracy: 1.0000\n",
      "Epoch 27/30\n",
      "1/1 [==============================] - 10s 10s/step - loss: 0.4631 - accuracy: 0.8966 - val_loss: 0.2441 - val_accuracy: 0.8333\n",
      "Epoch 28/30\n",
      "1/1 [==============================] - 10s 10s/step - loss: 0.6465 - accuracy: 0.7586 - val_loss: 0.2854 - val_accuracy: 0.8333\n",
      "Epoch 29/30\n",
      "1/1 [==============================] - 11s 11s/step - loss: 0.3325 - accuracy: 0.8621 - val_loss: 0.0391 - val_accuracy: 1.0000\n",
      "Epoch 30/30\n",
      "1/1 [==============================] - 9s 9s/step - loss: 0.3421 - accuracy: 0.7586 - val_loss: 0.1817 - val_accuracy: 1.0000\n"
     ]
    }
   ],
   "source": [
    "history = model.fit(\n",
    "    train_generator,\n",
    "    epochs=30,  # here as i have  it more for training and accuracy you can make it adjusted as needed\n",
    "    validation_data=validation_generator\n",
    ")\n"
   ]
  },
  {
   "cell_type": "code",
   "execution_count": 5,
   "id": "63838263-bee6-4dbe-8121-7e1b7e59aae8",
   "metadata": {},
   "outputs": [
    {
     "data": {
      "image/png": "[encoded data removed]",
      "text/plain": [
       "<Figure size 640x480 with 1 Axes>"
      ]
     },
     "metadata": {},
     "output_type": "display_data"
    }
   ],
   "source": [
    "import matplotlib.pyplot as plt\n",
    "\n",
    "\n",
    "plt.plot(history.history['accuracy'], label='accuracy')\n",
    "plt.plot(history.history['val_accuracy'], label = 'val_accuracy')\n",
    "plt.xlabel('Epoch')\n",
    "plt.ylabel('Accuracy')\n",
    "plt.ylim([0, 4])\n",
    "plt.legend(loc='lower right')\n",
    "plt.show()\n"
   ]
  },
  {
   "cell_type": "code",
   "execution_count": 6,
   "id": "499f4380-2ff3-4821-82d4-ac22786ba071",
   "metadata": {},
   "outputs": [
    {
     "name": "stdout",
     "output_type": "stream",
     "text": [
      "Found 35 images belonging to 2 classes.\n"
     ]
    },
    {
     "name": "stdout",
     "output_type": "stream",
     "text": [
      "1/1 [==============================] - 3s 3s/step - loss: 0.2808 - accuracy: 0.9143\n",
      "Test accuracy: 0.9142857193946838\n"
     ]
    }
   ],
   "source": [
    "# ...\n",
    "\n",
    "test_generator = train_datagen.flow_from_directory(\n",
    "    'E:/OK_&_Nok_images',\n",
    "    target_size=img_size,\n",
    "    batch_size=batch_size,\n",
    "    class_mode='binary',\n",
    "    shuffle=False\n",
    ")\n",
    "\n",
    "test_loss, test_accuracy = model.evaluate(test_generator)\n",
    "print(f\"Test accuracy: {test_accuracy}\")\n"
   ]
  },
  {
   "cell_type": "code",
   "execution_count": 26,
   "id": "14fe8189-9bdb-4780-83a3-ea102a3d2a98",
   "metadata": {},
   "outputs": [
    {
     "name": "stdout",
     "output_type": "stream",
     "text": [
      "1/1 [==============================] - 0s 208ms/step\n",
      "Predicted: OK\n"
     ]
    }
   ],
   "source": [
    "import numpy as np\n",
    "from keras.preprocessing import image\n",
    "def load_image(img_path):\n",
    "    img = image.load_img(img_path, target_size=img_size)\n",
    "    img = image.img_to_array(img)\n",
    "    img = np.expand_dims(img, axis=0)\n",
    "    return img\n",
    "\n",
    "img_path = 'E:/OK_&_Nok_images/Ok/0827122140_ok.jpg'\n",
    "img = load_image(img_path)\n",
    "prediction = model.predict(img)\n",
    "\n",
    "\n",
    "threshold = 0  \n",
    "\n",
    "if prediction >= threshold:\n",
    "    print(\"Predicted: OK\")\n",
    "else:\n",
    "    print(\"Predicted: NOK\")\n",
    "\n",
    "\n"
   ]
  },
  {
   "cell_type": "code",
   "execution_count": null,
   "id": "09da19c8-db96-4ff6-85d5-c64f22ec0db7",
   "metadata": {},
   "outputs": [],
   "source": []
  },
  {
   "cell_type": "code",
   "execution_count": null,
   "id": "0605ac55-9ac2-4fac-9295-3d2304006ee0",
   "metadata": {},
   "outputs": [],
   "source": []
  }
 ],
 "metadata": {
  "kernelspec": {
   "display_name": "Python 3 (ipykernel)",
   "language": "python",
   "name": "python3"
  },
  "language_info": {
   "codemirror_mode": {
    "name": "ipython",
    "version": 3
   },
   "file_extension": ".py",
   "mimetype": "text/x-python",
   "name": "python",
   "nbconvert_exporter": "python",
   "pygments_lexer": "ipython3",
   "version": "3.11.5"
  }
 },
 "nbformat": 4,
 "nbformat_minor": 5
}
